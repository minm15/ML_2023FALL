{
  "nbformat": 4,
  "nbformat_minor": 0,
  "metadata": {
    "colab": {
      "provenance": [],
      "authorship_tag": "ABX9TyNefGUDsx5vjguAtJ2bUXpZ",
      "include_colab_link": true
    },
    "kernelspec": {
      "name": "python3",
      "display_name": "Python 3"
    },
    "language_info": {
      "name": "python"
    }
  },
  "cells": [
    {
      "cell_type": "markdown",
      "metadata": {
        "id": "view-in-github",
        "colab_type": "text"
      },
      "source": [
        "<a href=\"https://colab.research.google.com/github/minm15/ML_2023FALL/blob/main/ML_hw1.ipynb\" target=\"_parent\"><img src=\"https://colab.research.google.com/assets/colab-badge.svg\" alt=\"Open In Colab\"/></a>"
      ]
    },
    {
      "cell_type": "code",
      "execution_count": null,
      "metadata": {
        "id": "IOMb8Eo0mF6w"
      },
      "outputs": [],
      "source": [
        "import requests\n",
        "from google.colab import drive\n",
        "import random\n",
        "import numpy as np\n",
        "import matplotlib.pyplot as plt\n",
        "import copy"
      ]
    },
    {
      "cell_type": "code",
      "source": [
        "drive.mount('/content/drive')"
      ],
      "metadata": {
        "colab": {
          "base_uri": "https://localhost:8080/"
        },
        "id": "9HCLiTFlnYDM",
        "outputId": "9ebabf6b-d7f0-4d47-95ec-9a632c75b1fe"
      },
      "execution_count": null,
      "outputs": [
        {
          "output_type": "stream",
          "name": "stdout",
          "text": [
            "Mounted at /content/drive\n"
          ]
        }
      ]
    },
    {
      "cell_type": "code",
      "source": [
        "url = \"https://www.csie.ntu.edu.tw/~htlin/course/ml23fall/hw1/hw1_train.dat\"\n",
        "\n",
        "response = requests.get(url)\n",
        "\n",
        "file_path = '/content/drive/My Drive/data.dat'\n",
        "if response.status_code == 200:\n",
        "    with open(file_path, \"wb\") as f:\n",
        "        f.write(response.content)"
      ],
      "metadata": {
        "id": "vnwnFZqdnlyg"
      },
      "execution_count": null,
      "outputs": []
    },
    {
      "cell_type": "code",
      "source": [
        "with open(file_path, \"r\") as f:\n",
        "    lines = f.readlines()\n",
        "\n",
        "X = []\n",
        "Y = []\n",
        "for line in lines:\n",
        "    if not line.strip():\n",
        "        continue\n",
        "\n",
        "    values = line.strip().split()\n",
        "    x = [float(v) for v in values[:-1]]\n",
        "    y = int(values[-1])\n",
        "    X.append(x)\n",
        "    Y.append(y)"
      ],
      "metadata": {
        "id": "C1tBdwJ3qSDr"
      },
      "execution_count": null,
      "outputs": []
    },
    {
      "cell_type": "code",
      "source": [
        "print(len(X[0]))\n",
        "for x in X:\n",
        "    x.insert(0, 1)\n",
        "print(len(X[0]))"
      ],
      "metadata": {
        "colab": {
          "base_uri": "https://localhost:8080/"
        },
        "id": "zLxz5OHEs2WT",
        "outputId": "dc570a23-330c-4753-86ac-8037ff36e1ed"
      },
      "execution_count": null,
      "outputs": [
        {
          "output_type": "stream",
          "name": "stdout",
          "text": [
            "12\n",
            "13\n"
          ]
        }
      ]
    },
    {
      "cell_type": "markdown",
      "source": [
        "#PLA\n"
      ],
      "metadata": {
        "id": "KupBgzQvgFo5"
      }
    },
    {
      "cell_type": "code",
      "source": [
        "def PLA(X, Y, offset):\n",
        "    #sign = lambda a: (a>0) - (a<0)\n",
        "    update_list = [0]*1000\n",
        "    for i in range(1000):\n",
        "        # offset is used to adjust seed\n",
        "        random.seed(i+offset)\n",
        "        W = [0]*len(X[0])\n",
        "        cnt = 0\n",
        "        update = 0\n",
        "\n",
        "        while(cnt < 5*256):\n",
        "            # random pick one number from 0-255\n",
        "            r_num = random.randint(0, 255)\n",
        "\n",
        "            x = X[r_num]\n",
        "            y = Y[r_num]\n",
        "            sign = np.sign(np.dot(W, x))\n",
        "            # check if sign(wx) == y\n",
        "            if sign == y:\n",
        "                cnt+=1\n",
        "            else:\n",
        "                cnt = 0\n",
        "                update += 1\n",
        "                u = np.multiply(x, y)\n",
        "                W = np.add(W, u)\n",
        "\n",
        "        update_list[i] = update\n",
        "        if (i+1)%100 == 0:\n",
        "            print('update', i+1, 'times')\n",
        "        if i+1==1000:\n",
        "          print(W)\n",
        "\n",
        "    return update_list"
      ],
      "metadata": {
        "id": "c1F79EtjfH0C"
      },
      "execution_count": null,
      "outputs": []
    },
    {
      "cell_type": "code",
      "source": [
        "def draw_hist(update_list, title):\n",
        "    plt.hist(update_list, bins=100, edgecolor='k', alpha=0.7)\n",
        "    plt.xlabel('update times')\n",
        "    plt.ylabel('number')\n",
        "    plt.title(title)\n",
        "    plt.show()\n",
        "\n",
        "    median = np.median(update_list)\n",
        "    print('median number of updates:', median)"
      ],
      "metadata": {
        "id": "mf_sAkHTgLgU"
      },
      "execution_count": null,
      "outputs": []
    },
    {
      "cell_type": "markdown",
      "source": [
        "# 第9題"
      ],
      "metadata": {
        "id": "_vJozeqrwM1u"
      }
    },
    {
      "cell_type": "code",
      "source": [
        "X_9 = copy.deepcopy(X)\n",
        "update_list_9 = PLA(X_9, Y, 0)"
      ],
      "metadata": {
        "colab": {
          "base_uri": "https://localhost:8080/"
        },
        "id": "wJV9bLmxwQjj",
        "outputId": "6d0dd50c-3883-4555-8f80-9fb16a3a84d0"
      },
      "execution_count": null,
      "outputs": [
        {
          "output_type": "stream",
          "name": "stdout",
          "text": [
            "update 100 times\n",
            "update 200 times\n",
            "update 300 times\n",
            "update 400 times\n",
            "update 500 times\n",
            "update 600 times\n",
            "update 700 times\n",
            "update 800 times\n",
            "update 900 times\n",
            "update 1000 times\n",
            "[   97.           264.90936576 -1473.27841386  1676.67293034\n",
            " -1598.56311561  -935.767444   -2289.05149015  1391.92751828\n",
            "  -941.90564774  -394.42712787  1248.20914659  -505.30424727\n",
            "  -819.64551294]\n"
          ]
        }
      ]
    },
    {
      "cell_type": "code",
      "source": [
        "draw_hist(update_list_9, \"problem 9\")"
      ],
      "metadata": {
        "colab": {
          "base_uri": "https://localhost:8080/",
          "height": 490
        },
        "id": "LAK4HGzHRd-b",
        "outputId": "30d2e60e-bf54-435a-82f4-dca79925f7d0"
      },
      "execution_count": null,
      "outputs": [
        {
          "output_type": "display_data",
          "data": {
            "text/plain": [
              "<Figure size 640x480 with 1 Axes>"
            ],
            "image/png": "[encoded data removed]"
          },
          "metadata": {}
        },
        {
          "output_type": "stream",
          "name": "stdout",
          "text": [
            "median number of updates: 1074.5\n"
          ]
        }
      ]
    },
    {
      "cell_type": "markdown",
      "source": [
        "# 第10題\n"
      ],
      "metadata": {
        "id": "X6eQTF3fWw0P"
      }
    },
    {
      "cell_type": "code",
      "source": [
        "# set x0=11.26 for every x in X\n",
        "X_10 = copy.deepcopy(X)\n",
        "print(X_10[1])\n",
        "for x in X_10:\n",
        "    x[:] = np.multiply(x, 11.26)\n",
        "print(X_10[1])"
      ],
      "metadata": {
        "colab": {
          "base_uri": "https://localhost:8080/"
        },
        "id": "_dHY3D2QWy8l",
        "outputId": "27d41a3a-a76b-4b4d-db8d-9525491f4af1"
      },
      "execution_count": null,
      "outputs": [
        {
          "output_type": "stream",
          "name": "stdout",
          "text": [
            "[1, 67.28190133280849, -3.4521095935884074, 44.394048571163765, -6.464176543928692, 30.73343814024286, -14.561703488955343, 14.793258428258412, 57.997708970331225, 13.155526635618273, 43.45232733013814, 40.88921223521525, 75.71112320125242]\n",
            "[11.26, 757.5942090074236, -38.87075402380547, 499.87698691130396, -72.78662788463707, 346.0585134591346, -163.96478128563717, 166.5720899021897, 653.0542030059296, 148.13122991706175, 489.27320573735545, 460.41252976852365, 852.5072472461022]\n"
          ]
        }
      ]
    },
    {
      "cell_type": "code",
      "source": [
        "update_list_10 = PLA(X_10, Y, 0)"
      ],
      "metadata": {
        "colab": {
          "base_uri": "https://localhost:8080/"
        },
        "id": "hRMjN2-cXcih",
        "outputId": "0114820c-0894-4bc4-d2a3-a263ae55c836"
      },
      "execution_count": null,
      "outputs": [
        {
          "output_type": "stream",
          "name": "stdout",
          "text": [
            "update 100 times\n",
            "update 200 times\n",
            "update 300 times\n",
            "update 400 times\n",
            "update 500 times\n",
            "update 600 times\n",
            "update 700 times\n",
            "update 800 times\n",
            "update 900 times\n",
            "update 1000 times\n",
            "[  1092.22         2982.87945841 -16589.11494006  18879.33719558\n",
            " -17999.82068175 -10536.74141943 -25774.71977904  15673.10385581\n",
            " -10605.85759356  -4441.2494598   14054.83499066  -5689.7258243\n",
            "  -9229.20847571]\n"
          ]
        }
      ]
    },
    {
      "cell_type": "code",
      "source": [
        "draw_hist(update_list_10, \"problem 10\")"
      ],
      "metadata": {
        "colab": {
          "base_uri": "https://localhost:8080/"
        },
        "id": "0VuxlNDfaM47",
        "outputId": "a02d27c6-1ef4-4b95-91f4-232a17528172"
      },
      "execution_count": null,
      "outputs": [
        {
          "output_type": "display_data",
          "data": {
            "text/plain": [
              "<Figure size 640x480 with 1 Axes>"
            ],
            "image/png": "[encoded data removed]"
          },
          "metadata": {}
        },
        {
          "output_type": "stream",
          "name": "stdout",
          "text": [
            "median number of updates: 1074.5\n"
          ]
        }
      ]
    },
    {
      "cell_type": "code",
      "source": [
        "def same_updates(list_9, list_10):\n",
        "    for i in range(len(list_9)):\n",
        "        if list_9[i] != list_10[i]: return False\n",
        "\n",
        "    return True\n",
        "\n",
        "same_updates(update_list_9, update_list_10)"
      ],
      "metadata": {
        "colab": {
          "base_uri": "https://localhost:8080/"
        },
        "id": "h5j5cJcE8TqH",
        "outputId": "eb8800cd-c6c8-4175-e884-030c88c47e59"
      },
      "execution_count": null,
      "outputs": [
        {
          "output_type": "execute_result",
          "data": {
            "text/plain": [
              "True"
            ]
          },
          "metadata": {},
          "execution_count": 23
        }
      ]
    },
    {
      "cell_type": "code",
      "source": [
        "print(update_list_9)\n",
        "print(update_list_10)"
      ],
      "metadata": {
        "colab": {
          "base_uri": "https://localhost:8080/"
        },
        "id": "QxzbYSqylond",
        "outputId": "93b427ce-04fc-4768-f154-613bc6bf89fb"
      },
      "execution_count": null,
      "outputs": [
        {
          "output_type": "stream",
          "name": "stdout",
          "text": [
            "[1132, 1049, 1238, 1007, 1367, 1027, 1037, 1116, 1067, 1048, 1056, 1255, 974, 1215, 1069, 1013, 1196, 1031, 1344, 1100, 866, 899, 1487, 922, 1161, 1130, 1288, 1208, 1225, 1100, 1127, 1181, 1031, 1161, 1134, 1073, 1368, 1253, 1218, 995, 878, 1261, 1188, 1319, 991, 877, 1122, 1222, 959, 931, 1173, 1160, 1171, 919, 1081, 1208, 964, 1290, 1220, 920, 1093, 977, 1164, 1013, 950, 1057, 1265, 932, 829, 813, 1150, 1030, 972, 1087, 1012, 1136, 989, 1121, 920, 788, 1025, 1420, 1300, 1120, 1228, 1133, 1068, 1153, 1155, 1003, 920, 1011, 837, 853, 1249, 1139, 888, 875, 1113, 1338, 1208, 1018, 1130, 1001, 1316, 1089, 1169, 1242, 1074, 954, 1245, 771, 939, 1135, 1265, 1226, 816, 1145, 865, 968, 1014, 1255, 1337, 1071, 799, 1144, 1168, 1041, 1049, 1222, 896, 1029, 956, 946, 943, 1225, 1028, 966, 1337, 968, 1185, 845, 1007, 914, 1074, 909, 1221, 761, 894, 953, 972, 925, 912, 1111, 989, 1050, 1218, 1074, 1264, 1373, 1232, 1369, 1026, 1150, 1120, 955, 1121, 1190, 1101, 888, 1360, 1064, 1086, 1087, 986, 1132, 1262, 1329, 883, 1111, 1178, 1028, 978, 1320, 1107, 1219, 743, 808, 1493, 951, 1065, 970, 949, 1172, 1118, 1270, 1091, 1021, 1159, 1071, 1139, 1039, 1040, 1164, 935, 1004, 960, 1018, 1170, 1180, 1328, 1248, 1295, 1145, 966, 1175, 1009, 1299, 1012, 1057, 1105, 1234, 1080, 954, 1011, 992, 1368, 1319, 1035, 1052, 1115, 929, 1055, 802, 1065, 1081, 883, 953, 1016, 1005, 830, 1105, 1132, 1127, 976, 1000, 1313, 1276, 965, 880, 1045, 1049, 1379, 924, 932, 804, 868, 1212, 1090, 919, 1273, 1321, 1035, 1438, 1423, 1173, 905, 1198, 1253, 1328, 878, 1105, 1171, 1117, 793, 1048, 954, 1028, 984, 1242, 844, 1337, 1128, 833, 924, 1134, 1112, 867, 999, 1390, 925, 1288, 1130, 911, 1177, 1251, 1122, 939, 1103, 1189, 999, 1093, 1115, 1097, 1198, 1116, 965, 1354, 915, 1174, 1056, 842, 779, 944, 1159, 1273, 986, 941, 810, 900, 1176, 1396, 1117, 1052, 1066, 1187, 1159, 1049, 890, 1192, 1285, 1014, 1028, 859, 1055, 1089, 1148, 1094, 989, 1167, 1072, 1111, 1192, 904, 1061, 922, 970, 922, 1161, 1088, 1066, 1006, 1053, 983, 1253, 894, 1424, 1025, 1082, 1090, 989, 1110, 1027, 1030, 1070, 1093, 1098, 1119, 1336, 810, 994, 1140, 780, 897, 1086, 1323, 1097, 1164, 872, 1032, 1019, 927, 1219, 1098, 1118, 990, 1219, 1338, 1121, 1060, 1217, 995, 1301, 1160, 1024, 1305, 1242, 1231, 1381, 1342, 1119, 1313, 987, 940, 793, 827, 1249, 862, 1175, 946, 932, 1136, 1300, 1210, 1115, 1184, 935, 916, 1028, 1090, 1247, 1052, 1295, 975, 1010, 1236, 1010, 999, 1074, 1081, 1098, 1346, 1178, 1002, 1303, 1087, 943, 1006, 1058, 1141, 1138, 1165, 1171, 894, 1188, 1044, 1069, 1496, 1384, 980, 885, 1284, 1108, 1221, 899, 1037, 1034, 1153, 1052, 1149, 1102, 1185, 970, 1187, 1098, 956, 982, 1160, 1296, 787, 1043, 968, 1194, 987, 866, 858, 1135, 969, 1013, 1262, 939, 1070, 1008, 792, 1208, 882, 1344, 1191, 1023, 879, 965, 898, 1128, 1078, 1068, 1195, 1157, 1241, 943, 973, 1123, 1151, 1167, 1379, 1150, 1074, 1401, 1425, 1093, 1216, 782, 1074, 908, 967, 1220, 780, 1211, 1061, 1007, 1193, 1070, 985, 1334, 1107, 1019, 1072, 847, 986, 1004, 1340, 1167, 1202, 978, 1010, 1052, 949, 1259, 1067, 1186, 858, 1058, 895, 1297, 761, 956, 1128, 1154, 1210, 1021, 1284, 717, 1064, 1038, 1177, 1126, 1171, 1231, 950, 750, 1211, 1067, 968, 1077, 1180, 1188, 1130, 1171, 909, 1027, 895, 1065, 1016, 971, 1533, 1143, 1144, 1085, 1069, 1228, 1330, 1026, 938, 1175, 995, 822, 1538, 1208, 997, 950, 1318, 910, 1048, 1213, 1135, 1161, 839, 1151, 966, 915, 1421, 1197, 1053, 1226, 1282, 1235, 919, 985, 964, 1307, 1246, 1239, 1326, 953, 1139, 973, 1222, 881, 1130, 1095, 1419, 1094, 1096, 784, 1262, 1232, 1199, 921, 999, 1120, 877, 1292, 918, 982, 1107, 1299, 1184, 1143, 972, 826, 964, 904, 1257, 1177, 1031, 1235, 1275, 909, 1074, 1172, 1220, 937, 968, 1212, 874, 1241, 1027, 1068, 940, 1043, 952, 1008, 1081, 1123, 969, 979, 1076, 935, 1054, 1176, 1151, 1110, 968, 1275, 1099, 1010, 950, 1054, 842, 1008, 1061, 1025, 931, 1060, 988, 822, 855, 1338, 1205, 953, 1099, 1130, 786, 1210, 953, 1079, 1291, 1250, 1111, 1561, 1036, 1099, 1304, 1205, 1016, 988, 1102, 1072, 993, 1181, 1104, 1185, 1159, 1133, 922, 1004, 1192, 1152, 1082, 968, 1117, 1006, 1018, 953, 986, 1082, 1049, 1333, 1492, 1094, 1286, 1179, 978, 1025, 1141, 919, 1020, 979, 952, 1212, 1100, 1038, 1180, 811, 995, 1187, 1509, 1280, 973, 1239, 1018, 764, 857, 920, 1052, 962, 1125, 1142, 1134, 992, 1171, 1063, 932, 985, 1204, 1281, 1173, 1169, 1022, 1113, 1245, 1245, 919, 1191, 990, 1248, 1152, 1077, 984, 921, 759, 1416, 1213, 1023, 967, 936, 1096, 1106, 1080, 1111, 833, 1020, 1446, 1122, 1153, 1174, 850, 1260, 1045, 935, 975, 1189, 977, 1034, 979, 1028, 1143, 880, 1100, 1002, 1105, 1060, 833, 1120, 980, 786, 1196, 1109, 1090, 1201, 978, 1093, 1372, 1003, 1194, 1042, 889, 1111, 1095, 1298, 942, 1267, 1143, 967, 966, 1187, 971, 1106, 1092, 1075, 1055, 1270, 1048, 1091, 886, 1056, 897, 1166, 976, 1217, 1147, 1177, 1029, 870, 949, 1129, 923, 1088, 955, 1083, 1268, 991, 1118, 1025, 1162, 961, 911, 843, 1197, 1243, 871, 1188, 1108, 1109, 1210, 1107, 1155, 1298, 1105, 1059, 1284, 944, 1178, 1246, 959, 951, 999, 695, 1161, 843, 974, 910, 1161, 1256, 1242, 974, 957, 1056, 1072, 920, 1131, 933, 1117, 1127, 1304, 1072, 1220, 891, 1122, 1236, 941, 1263, 1109, 923, 813, 876, 1049, 1047, 1185, 1260, 994, 1230, 967, 1033, 830, 968, 975, 1226, 1246, 956, 912, 1237, 1221, 1013, 1097, 1265, 1013, 873, 1286, 1199, 931, 1011, 1053, 789, 1258, 1069, 794, 1246, 1137, 1148, 992, 1039, 870, 858, 1109, 1054, 1243, 1176, 1111, 1016, 880, 1153, 1381, 897, 953, 1245, 866, 1138, 1004, 1170, 985, 1207, 1026, 1142, 1142, 994, 907, 1210, 1198, 1006, 1129, 907, 930, 1039, 1173, 911, 1168, 1065, 1074, 1370, 1038, 792, 1132, 1134, 1124, 853, 1286, 837, 965, 1367, 1119]\n",
            "[1085, 1379, 1118, 1272, 959, 1293, 1212, 895, 1211, 1150, 1177, 1060, 997, 1047, 982, 1263, 1069, 1141, 1068, 831, 1138, 1007, 979, 907, 1270, 1165, 908, 991, 990, 1078, 1091, 758, 1035, 1054, 1134, 1074, 808, 973, 929, 1018, 871, 868, 909, 1159, 943, 958, 919, 1059, 1213, 1013, 942, 1069, 863, 890, 1087, 1252, 1220, 1144, 1172, 1330, 1125, 1086, 996, 1002, 880, 903, 850, 1110, 1071, 1099, 918, 992, 1095, 958, 1076, 859, 1133, 799, 1229, 1103, 874, 910, 1072, 1048, 1162, 977, 974, 1221, 869, 1062, 1105, 875, 968, 1140, 1114, 744, 962, 1268, 1005, 935, 1211, 1011, 1048, 998, 1331, 951, 1383, 894, 1057, 971, 1117, 1097, 968, 1312, 1036, 883, 1122, 1046, 1087, 1050, 971, 1224, 967, 1129, 993, 854, 1085, 1192, 1006, 912, 1003, 1171, 935, 942, 839, 1165, 977, 904, 988, 1218, 926, 944, 743, 937, 1232, 1089, 1164, 1156, 753, 1020, 1012, 1024, 935, 1172, 975, 873, 960, 858, 966, 1127, 1226, 836, 758, 1183, 1147, 1064, 782, 1176, 792, 990, 1263, 1015, 1153, 1174, 899, 867, 1272, 1054, 902, 1182, 874, 1359, 898, 840, 1171, 850, 1105, 894, 1213, 1011, 832, 1225, 1054, 1015, 1379, 1113, 958, 1299, 1000, 973, 1175, 1115, 1001, 1294, 1031, 919, 1026, 1314, 1116, 836, 866, 1074, 903, 1149, 1117, 1035, 858, 996, 1482, 837, 1245, 1070, 974, 891, 977, 1430, 866, 1077, 893, 1380, 1231, 949, 730, 1092, 1184, 773, 1170, 1005, 1251, 1278, 1054, 1197, 941, 754, 1090, 1435, 1027, 1177, 1050, 1158, 1143, 1013, 890, 1132, 1243, 1100, 1233, 1059, 951, 1052, 1444, 1076, 1078, 1083, 949, 1122, 925, 956, 993, 1057, 1181, 1174, 1077, 1088, 1160, 919, 1095, 1134, 1083, 1063, 1203, 1274, 1248, 1042, 1111, 797, 1068, 995, 1282, 953, 1209, 984, 1283, 1004, 1025, 1144, 1082, 1252, 1056, 1068, 851, 1248, 1044, 1223, 827, 1124, 905, 1090, 1157, 942, 935, 980, 1100, 1071, 1180, 1146, 1272, 1007, 699, 1163, 917, 1059, 974, 1082, 1380, 858, 1194, 945, 1095, 1049, 1112, 737, 853, 1047, 1156, 734, 1274, 1255, 1100, 810, 925, 949, 1002, 1225, 981, 1044, 1065, 1039, 1037, 1249, 1126, 956, 1255, 903, 984, 1450, 1045, 917, 983, 1012, 1175, 1042, 1259, 1047, 1024, 1174, 883, 928, 1106, 1132, 1286, 1044, 1038, 1165, 1125, 1277, 1097, 884, 1099, 1227, 1112, 993, 1212, 1197, 1007, 788, 1132, 1211, 1281, 1158, 1077, 931, 1035, 954, 1010, 719, 1095, 1241, 993, 1163, 1278, 982, 1185, 1082, 1298, 1229, 873, 1110, 1166, 967, 1212, 1022, 854, 1083, 1411, 1178, 1372, 1034, 641, 1199, 1030, 1044, 1052, 889, 951, 1027, 864, 1112, 1191, 1258, 960, 1102, 1099, 1333, 1021, 984, 1220, 1536, 910, 1066, 1269, 709, 1053, 1113, 1070, 987, 1010, 890, 1047, 1092, 1260, 987, 1067, 953, 771, 1175, 1093, 944, 767, 1084, 1124, 914, 1050, 738, 771, 1120, 1084, 967, 929, 902, 1200, 1206, 1202, 1369, 956, 1073, 851, 1075, 857, 1332, 919, 929, 1329, 929, 1116, 1103, 1154, 812, 871, 1226, 1030, 1354, 797, 1038, 1184, 890, 1120, 1021, 1131, 1090, 1153, 1112, 1048, 1013, 1025, 1054, 1180, 870, 1354, 1258, 1041, 980, 1136, 1159, 971, 923, 1148, 840, 1180, 831, 1226, 1138, 843, 989, 928, 982, 1070, 1107, 1222, 1088, 1258, 1065, 1131, 1046, 1079, 1220, 1052, 871, 1220, 1180, 1196, 1121, 982, 1054, 1014, 926, 1108, 816, 1001, 1178, 1126, 1131, 984, 1036, 1102, 930, 938, 1206, 967, 971, 1042, 1427, 1158, 1021, 1137, 1108, 1138, 879, 1059, 1021, 1084, 1150, 885, 1131, 1149, 1304, 1372, 930, 971, 793, 1041, 834, 902, 1242, 937, 1098, 1436, 881, 976, 1106, 1200, 1336, 909, 1053, 1066, 1268, 1073, 1006, 819, 1128, 1112, 1190, 1151, 927, 968, 1192, 1052, 1071, 844, 1209, 1110, 986, 1228, 1036, 1114, 1177, 1016, 987, 1120, 827, 1362, 1092, 854, 827, 1079, 1015, 1023, 973, 1305, 977, 1237, 929, 984, 907, 927, 870, 1047, 1232, 910, 954, 1107, 1537, 996, 1091, 1040, 1183, 1124, 1298, 1372, 1052, 940, 967, 948, 862, 1154, 1083, 1224, 953, 1097, 1175, 999, 996, 1059, 976, 909, 1079, 1060, 1197, 1363, 841, 1134, 996, 872, 1019, 1008, 1171, 1226, 1182, 937, 1034, 905, 1029, 1132, 1082, 1123, 1288, 1163, 1022, 970, 898, 973, 982, 1112, 1250, 811, 1127, 993, 934, 1163, 993, 1237, 1261, 956, 1201, 1090, 1239, 1127, 1170, 1010, 880, 1147, 1133, 864, 996, 880, 944, 990, 847, 1064, 1133, 1141, 1066, 852, 1516, 1093, 1117, 847, 1064, 807, 868, 1057, 1152, 870, 1078, 1024, 1098, 987, 636, 1010, 1233, 896, 1147, 1294, 972, 1416, 920, 1103, 1275, 928, 1085, 1185, 876, 959, 1149, 1176, 990, 929, 1123, 1168, 923, 1195, 1203, 1223, 934, 711, 1201, 1168, 885, 1370, 981, 998, 1019, 896, 1029, 1005, 1138, 1045, 1026, 1165, 1156, 1193, 1064, 1242, 1533, 1094, 973, 1199, 907, 872, 960, 1182, 954, 881, 1133, 1158, 1163, 939, 1068, 1066, 1125, 1027, 939, 1165, 948, 1035, 997, 760, 981, 1126, 1082, 1189, 1211, 823, 984, 1270, 1282, 1045, 1126, 1267, 1011, 1392, 1088, 1142, 1153, 1168, 949, 1202, 967, 1086, 1385, 1145, 977, 1029, 1342, 1229, 981, 998, 1061, 1015, 1061, 1189, 1185, 1086, 961, 1236, 1301, 1037, 1178, 1126, 1209, 1072, 882, 809, 1001, 850, 924, 1127, 1120, 1001, 976, 1257, 768, 1106, 943, 1355, 929, 1007, 1083, 974, 1094, 834, 886, 835, 1236, 857, 1003, 1135, 937, 1300, 991, 1314, 697, 937, 1174, 1195, 956, 1165, 953, 868, 1156, 987, 774, 1171, 985, 1022, 1202, 1096, 1024, 1000, 744, 1049, 1129, 909, 925, 1144, 1057, 1202, 1336, 1087, 1338, 1007, 1023, 1241, 983, 1276, 918, 1202, 1151, 926, 793, 1060, 1276, 1327, 1065, 999, 1064, 1164, 1220, 986, 1005, 1033, 1226, 1333, 968, 809, 1375, 972, 1453, 1093, 1021, 928, 751, 1195, 1248, 992, 1042, 654, 845, 1126, 1131, 1113, 1090, 1225, 1151, 725, 1281, 1193, 1040, 1070, 1085, 1022, 1287, 1119, 1224, 925, 791, 924, 958, 1113, 987, 898, 1288, 1085, 1023, 1134, 974, 1156, 889, 846, 1180, 1068, 872, 954, 1067, 1033, 1396, 1309, 797, 1216, 863, 1369, 1116, 1224, 1274, 863, 1171, 1032, 1165, 1066, 1301]\n"
          ]
        }
      ]
    },
    {
      "cell_type": "markdown",
      "source": [
        "# 第11題"
      ],
      "metadata": {
        "id": "o4SRV4EOi5ON"
      }
    },
    {
      "cell_type": "code",
      "source": [
        "X_11 = copy.deepcopy(X)\n",
        "print(X_11[0])\n",
        "for x in X_11:\n",
        "    x[0] = 11.26\n",
        "print(X_11[0])"
      ],
      "metadata": {
        "colab": {
          "base_uri": "https://localhost:8080/"
        },
        "id": "JS7hTz5Mi_nR",
        "outputId": "b8d5b52f-01ea-418b-d89c-4e36d0872a23"
      },
      "execution_count": null,
      "outputs": [
        {
          "output_type": "stream",
          "name": "stdout",
          "text": [
            "[1, 81.01975695920375, -0.24647068258400448, 53.001506201026736, -4.881393876635416, 42.06109444134342, -9.953608674192033, 18.061001174379342, 72.87812100918133, 16.757591604840254, 52.706566427130866, 53.41780525270596, 91.13173682389531]\n",
            "[11.26, 81.01975695920375, -0.24647068258400448, 53.001506201026736, -4.881393876635416, 42.06109444134342, -9.953608674192033, 18.061001174379342, 72.87812100918133, 16.757591604840254, 52.706566427130866, 53.41780525270596, 91.13173682389531]\n"
          ]
        }
      ]
    },
    {
      "cell_type": "code",
      "source": [
        "update_list_11 = PLA(X_11, Y, 3)"
      ],
      "metadata": {
        "colab": {
          "base_uri": "https://localhost:8080/"
        },
        "id": "ZYVlWqnajNWg",
        "outputId": "cae42de4-abcd-4477-c8b9-03a3bd04e22f"
      },
      "execution_count": null,
      "outputs": [
        {
          "output_type": "stream",
          "name": "stdout",
          "text": [
            "update 100 times\n",
            "update 200 times\n",
            "update 300 times\n",
            "update 400 times\n",
            "update 500 times\n",
            "update 600 times\n",
            "update 700 times\n",
            "update 800 times\n",
            "update 900 times\n",
            "update 1000 times\n",
            "[ 1148.52         218.9769917  -1558.69502808  1773.37962134\n",
            " -1743.29957892  -983.9193672  -2438.76059727  1472.94512023\n",
            " -1039.36106771  -418.87604905  1317.02097761  -494.40414271\n",
            "  -930.98866907]\n"
          ]
        }
      ]
    },
    {
      "cell_type": "code",
      "source": [
        "draw_hist(update_list_11, \"problem 11\")"
      ],
      "metadata": {
        "colab": {
          "base_uri": "https://localhost:8080/",
          "height": 490
        },
        "id": "r39_EHLrkRQp",
        "outputId": "e6016155-abf7-4773-ffc5-627602207b23"
      },
      "execution_count": null,
      "outputs": [
        {
          "output_type": "display_data",
          "data": {
            "text/plain": [
              "<Figure size 640x480 with 1 Axes>"
            ],
            "image/png": "[encoded data removed]"
          },
          "metadata": {}
        },
        {
          "output_type": "stream",
          "name": "stdout",
          "text": [
            "median number of updates: 1032.5\n"
          ]
        }
      ]
    },
    {
      "cell_type": "code",
      "source": [
        "print(update_list_9)\n"
      ],
      "metadata": {
        "colab": {
          "base_uri": "https://localhost:8080/"
        },
        "id": "gRJaJ6I1vkbR",
        "outputId": "eb784ce4-2ce5-4509-eabd-f9a8bf92ed07"
      },
      "execution_count": null,
      "outputs": [
        {
          "output_type": "stream",
          "name": "stdout",
          "text": [
            "[1132, 1049, 1238, 1007, 1367, 1027, 1037, 1116, 1067, 1048, 1056, 1255, 974, 1215, 1069, 1013, 1196, 1031, 1344, 1100, 866, 899, 1487, 922, 1161, 1130, 1288, 1208, 1225, 1100, 1127, 1181, 1031, 1161, 1134, 1073, 1368, 1253, 1218, 995, 878, 1261, 1188, 1319, 991, 877, 1122, 1222, 959, 931, 1173, 1160, 1171, 919, 1081, 1208, 964, 1290, 1220, 920, 1093, 977, 1164, 1013, 950, 1057, 1265, 932, 829, 813, 1150, 1030, 972, 1087, 1012, 1136, 989, 1121, 920, 788, 1025, 1420, 1300, 1120, 1228, 1133, 1068, 1153, 1155, 1003, 920, 1011, 837, 853, 1249, 1139, 888, 875, 1113, 1338, 1208, 1018, 1130, 1001, 1316, 1089, 1169, 1242, 1074, 954, 1245, 771, 939, 1135, 1265, 1226, 816, 1145, 865, 968, 1014, 1255, 1337, 1071, 799, 1144, 1168, 1041, 1049, 1222, 896, 1029, 956, 946, 943, 1225, 1028, 966, 1337, 968, 1185, 845, 1007, 914, 1074, 909, 1221, 761, 894, 953, 972, 925, 912, 1111, 989, 1050, 1218, 1074, 1264, 1373, 1232, 1369, 1026, 1150, 1120, 955, 1121, 1190, 1101, 888, 1360, 1064, 1086, 1087, 986, 1132, 1262, 1329, 883, 1111, 1178, 1028, 978, 1320, 1107, 1219, 743, 808, 1493, 951, 1065, 970, 949, 1172, 1118, 1270, 1091, 1021, 1159, 1071, 1139, 1039, 1040, 1164, 935, 1004, 960, 1018, 1170, 1180, 1328, 1248, 1295, 1145, 966, 1175, 1009, 1299, 1012, 1057, 1105, 1234, 1080, 954, 1011, 992, 1368, 1319, 1035, 1052, 1115, 929, 1055, 802, 1065, 1081, 883, 953, 1016, 1005, 830, 1105, 1132, 1127, 976, 1000, 1313, 1276, 965, 880, 1045, 1049, 1379, 924, 932, 804, 868, 1212, 1090, 919, 1273, 1321, 1035, 1438, 1423, 1173, 905, 1198, 1253, 1328, 878, 1105, 1171, 1117, 793, 1048, 954, 1028, 984, 1242, 844, 1337, 1128, 833, 924, 1134, 1112, 867, 999, 1390, 925, 1288, 1130, 911, 1177, 1251, 1122, 939, 1103, 1189, 999, 1093, 1115, 1097, 1198, 1116, 965, 1354, 915, 1174, 1056, 842, 779, 944, 1159, 1273, 986, 941, 810, 900, 1176, 1396, 1117, 1052, 1066, 1187, 1159, 1049, 890, 1192, 1285, 1014, 1028, 859, 1055, 1089, 1148, 1094, 989, 1167, 1072, 1111, 1192, 904, 1061, 922, 970, 922, 1161, 1088, 1066, 1006, 1053, 983, 1253, 894, 1424, 1025, 1082, 1090, 989, 1110, 1027, 1030, 1070, 1093, 1098, 1119, 1336, 810, 994, 1140, 780, 897, 1086, 1323, 1097, 1164, 872, 1032, 1019, 927, 1219, 1098, 1118, 990, 1219, 1338, 1121, 1060, 1217, 995, 1301, 1160, 1024, 1305, 1242, 1231, 1381, 1342, 1119, 1313, 987, 940, 793, 827, 1249, 862, 1175, 946, 932, 1136, 1300, 1210, 1115, 1184, 935, 916, 1028, 1090, 1247, 1052, 1295, 975, 1010, 1236, 1010, 999, 1074, 1081, 1098, 1346, 1178, 1002, 1303, 1087, 943, 1006, 1058, 1141, 1138, 1165, 1171, 894, 1188, 1044, 1069, 1496, 1384, 980, 885, 1284, 1108, 1221, 899, 1037, 1034, 1153, 1052, 1149, 1102, 1185, 970, 1187, 1098, 956, 982, 1160, 1296, 787, 1043, 968, 1194, 987, 866, 858, 1135, 969, 1013, 1262, 939, 1070, 1008, 792, 1208, 882, 1344, 1191, 1023, 879, 965, 898, 1128, 1078, 1068, 1195, 1157, 1241, 943, 973, 1123, 1151, 1167, 1379, 1150, 1074, 1401, 1425, 1093, 1216, 782, 1074, 908, 967, 1220, 780, 1211, 1061, 1007, 1193, 1070, 985, 1334, 1107, 1019, 1072, 847, 986, 1004, 1340, 1167, 1202, 978, 1010, 1052, 949, 1259, 1067, 1186, 858, 1058, 895, 1297, 761, 956, 1128, 1154, 1210, 1021, 1284, 717, 1064, 1038, 1177, 1126, 1171, 1231, 950, 750, 1211, 1067, 968, 1077, 1180, 1188, 1130, 1171, 909, 1027, 895, 1065, 1016, 971, 1533, 1143, 1144, 1085, 1069, 1228, 1330, 1026, 938, 1175, 995, 822, 1538, 1208, 997, 950, 1318, 910, 1048, 1213, 1135, 1161, 839, 1151, 966, 915, 1421, 1197, 1053, 1226, 1282, 1235, 919, 985, 964, 1307, 1246, 1239, 1326, 953, 1139, 973, 1222, 881, 1130, 1095, 1419, 1094, 1096, 784, 1262, 1232, 1199, 921, 999, 1120, 877, 1292, 918, 982, 1107, 1299, 1184, 1143, 972, 826, 964, 904, 1257, 1177, 1031, 1235, 1275, 909, 1074, 1172, 1220, 937, 968, 1212, 874, 1241, 1027, 1068, 940, 1043, 952, 1008, 1081, 1123, 969, 979, 1076, 935, 1054, 1176, 1151, 1110, 968, 1275, 1099, 1010, 950, 1054, 842, 1008, 1061, 1025, 931, 1060, 988, 822, 855, 1338, 1205, 953, 1099, 1130, 786, 1210, 953, 1079, 1291, 1250, 1111, 1561, 1036, 1099, 1304, 1205, 1016, 988, 1102, 1072, 993, 1181, 1104, 1185, 1159, 1133, 922, 1004, 1192, 1152, 1082, 968, 1117, 1006, 1018, 953, 986, 1082, 1049, 1333, 1492, 1094, 1286, 1179, 978, 1025, 1141, 919, 1020, 979, 952, 1212, 1100, 1038, 1180, 811, 995, 1187, 1509, 1280, 973, 1239, 1018, 764, 857, 920, 1052, 962, 1125, 1142, 1134, 992, 1171, 1063, 932, 985, 1204, 1281, 1173, 1169, 1022, 1113, 1245, 1245, 919, 1191, 990, 1248, 1152, 1077, 984, 921, 759, 1416, 1213, 1023, 967, 936, 1096, 1106, 1080, 1111, 833, 1020, 1446, 1122, 1153, 1174, 850, 1260, 1045, 935, 975, 1189, 977, 1034, 979, 1028, 1143, 880, 1100, 1002, 1105, 1060, 833, 1120, 980, 786, 1196, 1109, 1090, 1201, 978, 1093, 1372, 1003, 1194, 1042, 889, 1111, 1095, 1298, 942, 1267, 1143, 967, 966, 1187, 971, 1106, 1092, 1075, 1055, 1270, 1048, 1091, 886, 1056, 897, 1166, 976, 1217, 1147, 1177, 1029, 870, 949, 1129, 923, 1088, 955, 1083, 1268, 991, 1118, 1025, 1162, 961, 911, 843, 1197, 1243, 871, 1188, 1108, 1109, 1210, 1107, 1155, 1298, 1105, 1059, 1284, 944, 1178, 1246, 959, 951, 999, 695, 1161, 843, 974, 910, 1161, 1256, 1242, 974, 957, 1056, 1072, 920, 1131, 933, 1117, 1127, 1304, 1072, 1220, 891, 1122, 1236, 941, 1263, 1109, 923, 813, 876, 1049, 1047, 1185, 1260, 994, 1230, 967, 1033, 830, 968, 975, 1226, 1246, 956, 912, 1237, 1221, 1013, 1097, 1265, 1013, 873, 1286, 1199, 931, 1011, 1053, 789, 1258, 1069, 794, 1246, 1137, 1148, 992, 1039, 870, 858, 1109, 1054, 1243, 1176, 1111, 1016, 880, 1153, 1381, 897, 953, 1245, 866, 1138, 1004, 1170, 985, 1207, 1026, 1142, 1142, 994, 907, 1210, 1198, 1006, 1129, 907, 930, 1039, 1173, 911, 1168, 1065, 1074, 1370, 1038, 792, 1132, 1134, 1124, 853, 1286, 837, 965, 1367, 1119]\n"
          ]
        }
      ]
    },
    {
      "cell_type": "code",
      "source": [
        "print(update_list_10)"
      ],
      "metadata": {
        "colab": {
          "base_uri": "https://localhost:8080/"
        },
        "id": "rsjwdzXTvpIQ",
        "outputId": "e0026584-8df3-4cfa-feb3-1fd86de31f79"
      },
      "execution_count": null,
      "outputs": [
        {
          "output_type": "stream",
          "name": "stdout",
          "text": [
            "[1132, 1049, 1238, 1007, 1367, 1027, 1037, 1116, 1067, 1048, 1056, 1255, 974, 1215, 1069, 1013, 1196, 1031, 1344, 1100, 866, 899, 1487, 922, 1161, 1130, 1288, 1208, 1225, 1100, 1127, 1181, 1031, 1161, 1134, 1073, 1368, 1253, 1218, 995, 878, 1261, 1188, 1319, 991, 877, 1122, 1222, 959, 931, 1173, 1160, 1171, 919, 1081, 1208, 964, 1290, 1220, 920, 1093, 977, 1164, 1013, 950, 1057, 1265, 932, 829, 813, 1150, 1030, 972, 1087, 1012, 1136, 989, 1121, 920, 788, 1025, 1420, 1300, 1120, 1228, 1133, 1068, 1153, 1155, 1003, 920, 1011, 837, 853, 1249, 1139, 888, 875, 1113, 1338, 1208, 1018, 1130, 1001, 1316, 1089, 1169, 1242, 1074, 954, 1245, 771, 939, 1135, 1265, 1226, 816, 1145, 865, 968, 1014, 1255, 1337, 1071, 799, 1144, 1168, 1041, 1049, 1222, 896, 1029, 956, 946, 943, 1225, 1028, 966, 1337, 968, 1185, 845, 1007, 914, 1074, 909, 1221, 761, 894, 953, 972, 925, 912, 1111, 989, 1050, 1218, 1074, 1264, 1373, 1232, 1369, 1026, 1150, 1120, 955, 1121, 1190, 1101, 888, 1360, 1064, 1086, 1087, 986, 1132, 1262, 1329, 883, 1111, 1178, 1028, 978, 1320, 1107, 1219, 743, 808, 1493, 951, 1065, 970, 949, 1172, 1118, 1270, 1091, 1021, 1159, 1071, 1139, 1039, 1040, 1164, 935, 1004, 960, 1018, 1170, 1180, 1328, 1248, 1295, 1145, 966, 1175, 1009, 1299, 1012, 1057, 1105, 1234, 1080, 954, 1011, 992, 1368, 1319, 1035, 1052, 1115, 929, 1055, 802, 1065, 1081, 883, 953, 1016, 1005, 830, 1105, 1132, 1127, 976, 1000, 1313, 1276, 965, 880, 1045, 1049, 1379, 924, 932, 804, 868, 1212, 1090, 919, 1273, 1321, 1035, 1438, 1423, 1173, 905, 1198, 1253, 1328, 878, 1105, 1171, 1117, 793, 1048, 954, 1028, 984, 1242, 844, 1337, 1128, 833, 924, 1134, 1112, 867, 999, 1390, 925, 1288, 1130, 911, 1177, 1251, 1122, 939, 1103, 1189, 999, 1093, 1115, 1097, 1198, 1116, 965, 1354, 915, 1174, 1056, 842, 779, 944, 1159, 1273, 986, 941, 810, 900, 1176, 1396, 1117, 1052, 1066, 1187, 1159, 1049, 890, 1192, 1285, 1014, 1028, 859, 1055, 1089, 1148, 1094, 989, 1167, 1072, 1111, 1192, 904, 1061, 922, 970, 922, 1161, 1088, 1066, 1006, 1053, 983, 1253, 894, 1424, 1025, 1082, 1090, 989, 1110, 1027, 1030, 1070, 1093, 1098, 1119, 1336, 810, 994, 1140, 780, 897, 1086, 1323, 1097, 1164, 872, 1032, 1019, 927, 1219, 1098, 1118, 990, 1219, 1338, 1121, 1060, 1217, 995, 1301, 1160, 1024, 1305, 1242, 1231, 1381, 1342, 1119, 1313, 987, 940, 793, 827, 1249, 862, 1175, 946, 932, 1136, 1300, 1210, 1115, 1184, 935, 916, 1028, 1090, 1247, 1052, 1295, 975, 1010, 1236, 1010, 999, 1074, 1081, 1098, 1346, 1178, 1002, 1303, 1087, 943, 1006, 1058, 1141, 1138, 1165, 1171, 894, 1188, 1044, 1069, 1496, 1384, 980, 885, 1284, 1108, 1221, 899, 1037, 1034, 1153, 1052, 1149, 1102, 1185, 970, 1187, 1098, 956, 982, 1160, 1296, 787, 1043, 968, 1194, 987, 866, 858, 1135, 969, 1013, 1262, 939, 1070, 1008, 792, 1208, 882, 1344, 1191, 1023, 879, 965, 898, 1128, 1078, 1068, 1195, 1157, 1241, 943, 973, 1123, 1151, 1167, 1379, 1150, 1074, 1401, 1425, 1093, 1216, 782, 1074, 908, 967, 1220, 780, 1211, 1061, 1007, 1193, 1070, 985, 1334, 1107, 1019, 1072, 847, 986, 1004, 1340, 1167, 1202, 978, 1010, 1052, 949, 1259, 1067, 1186, 858, 1058, 895, 1297, 761, 956, 1128, 1154, 1210, 1021, 1284, 717, 1064, 1038, 1177, 1126, 1171, 1231, 950, 750, 1211, 1067, 968, 1077, 1180, 1188, 1130, 1171, 909, 1027, 895, 1065, 1016, 971, 1533, 1143, 1144, 1085, 1069, 1228, 1330, 1026, 938, 1175, 995, 822, 1538, 1208, 997, 950, 1318, 910, 1048, 1213, 1135, 1161, 839, 1151, 966, 915, 1421, 1197, 1053, 1226, 1282, 1235, 919, 985, 964, 1307, 1246, 1239, 1326, 953, 1139, 973, 1222, 881, 1130, 1095, 1419, 1094, 1096, 784, 1262, 1232, 1199, 921, 999, 1120, 877, 1292, 918, 982, 1107, 1299, 1184, 1143, 972, 826, 964, 904, 1257, 1177, 1031, 1235, 1275, 909, 1074, 1172, 1220, 937, 968, 1212, 874, 1241, 1027, 1068, 940, 1043, 952, 1008, 1081, 1123, 969, 979, 1076, 935, 1054, 1176, 1151, 1110, 968, 1275, 1099, 1010, 950, 1054, 842, 1008, 1061, 1025, 931, 1060, 988, 822, 855, 1338, 1205, 953, 1099, 1130, 786, 1210, 953, 1079, 1291, 1250, 1111, 1561, 1036, 1099, 1304, 1205, 1016, 988, 1102, 1072, 993, 1181, 1104, 1185, 1159, 1133, 922, 1004, 1192, 1152, 1082, 968, 1117, 1006, 1018, 953, 986, 1082, 1049, 1333, 1492, 1094, 1286, 1179, 978, 1025, 1141, 919, 1020, 979, 952, 1212, 1100, 1038, 1180, 811, 995, 1187, 1509, 1280, 973, 1239, 1018, 764, 857, 920, 1052, 962, 1125, 1142, 1134, 992, 1171, 1063, 932, 985, 1204, 1281, 1173, 1169, 1022, 1113, 1245, 1245, 919, 1191, 990, 1248, 1152, 1077, 984, 921, 759, 1416, 1213, 1023, 967, 936, 1096, 1106, 1080, 1111, 833, 1020, 1446, 1122, 1153, 1174, 850, 1260, 1045, 935, 975, 1189, 977, 1034, 979, 1028, 1143, 880, 1100, 1002, 1105, 1060, 833, 1120, 980, 786, 1196, 1109, 1090, 1201, 978, 1093, 1372, 1003, 1194, 1042, 889, 1111, 1095, 1298, 942, 1267, 1143, 967, 966, 1187, 971, 1106, 1092, 1075, 1055, 1270, 1048, 1091, 886, 1056, 897, 1166, 976, 1217, 1147, 1177, 1029, 870, 949, 1129, 923, 1088, 955, 1083, 1268, 991, 1118, 1025, 1162, 961, 911, 843, 1197, 1243, 871, 1188, 1108, 1109, 1210, 1107, 1155, 1298, 1105, 1059, 1284, 944, 1178, 1246, 959, 951, 999, 695, 1161, 843, 974, 910, 1161, 1256, 1242, 974, 957, 1056, 1072, 920, 1131, 933, 1117, 1127, 1304, 1072, 1220, 891, 1122, 1236, 941, 1263, 1109, 923, 813, 876, 1049, 1047, 1185, 1260, 994, 1230, 967, 1033, 830, 968, 975, 1226, 1246, 956, 912, 1237, 1221, 1013, 1097, 1265, 1013, 873, 1286, 1199, 931, 1011, 1053, 789, 1258, 1069, 794, 1246, 1137, 1148, 992, 1039, 870, 858, 1109, 1054, 1243, 1176, 1111, 1016, 880, 1153, 1381, 897, 953, 1245, 866, 1138, 1004, 1170, 985, 1207, 1026, 1142, 1142, 994, 907, 1210, 1198, 1006, 1129, 907, 930, 1039, 1173, 911, 1168, 1065, 1074, 1370, 1038, 792, 1132, 1134, 1124, 853, 1286, 837, 965, 1367, 1119]\n"
          ]
        }
      ]
    },
    {
      "cell_type": "code",
      "source": [
        "print(update_list_11)"
      ],
      "metadata": {
        "colab": {
          "base_uri": "https://localhost:8080/"
        },
        "id": "sv_JuJVPvsnR",
        "outputId": "6966c957-90c2-4f78-9859-42b377f56660"
      },
      "execution_count": null,
      "outputs": [
        {
          "output_type": "stream",
          "name": "stdout",
          "text": [
            "[904, 918, 926, 1264, 1000, 1233, 995, 1013, 1137, 1383, 842, 1025, 1113, 1156, 896, 1138, 928, 867, 908, 1368, 811, 943, 1326, 1258, 1234, 1157, 1203, 1165, 1251, 1074, 1050, 1099, 1030, 1162, 1239, 955, 1093, 1062, 1153, 1220, 1097, 1118, 1032, 961, 1234, 1186, 1070, 1127, 1076, 878, 1126, 950, 1127, 839, 1231, 1130, 888, 917, 918, 1150, 1071, 1045, 1051, 1085, 930, 912, 807, 947, 990, 1060, 1096, 936, 1063, 987, 1017, 1086, 800, 982, 820, 685, 860, 906, 852, 865, 1086, 903, 1017, 920, 957, 841, 878, 1198, 1174, 852, 977, 1058, 1150, 1161, 825, 1075, 1301, 1179, 1140, 1159, 1061, 951, 1392, 1039, 780, 809, 1056, 966, 1193, 1107, 855, 908, 931, 1015, 1074, 753, 1029, 972, 999, 1327, 919, 1022, 1189, 814, 935, 927, 822, 833, 1113, 986, 965, 1226, 929, 1142, 1038, 1011, 946, 1058, 1158, 997, 777, 845, 1026, 924, 1111, 1056, 1117, 1027, 937, 1329, 1027, 1342, 1047, 1113, 1006, 1057, 1063, 1083, 987, 1233, 1072, 985, 1253, 1253, 1228, 943, 1333, 990, 908, 1207, 1232, 1198, 965, 1036, 1096, 1032, 920, 936, 933, 737, 753, 1057, 1001, 1039, 923, 925, 921, 855, 946, 1024, 855, 966, 847, 925, 898, 996, 1087, 1235, 1037, 958, 1106, 934, 1055, 1101, 1175, 1263, 1035, 1058, 1218, 844, 1249, 951, 959, 1168, 1360, 1101, 920, 1057, 957, 1151, 752, 1118, 995, 1094, 889, 1001, 941, 970, 1096, 1033, 943, 818, 942, 893, 1120, 970, 816, 1031, 1043, 1006, 1235, 762, 1294, 1020, 848, 1310, 1023, 966, 857, 1062, 911, 999, 911, 1249, 1091, 999, 1139, 1482, 1123, 1021, 1133, 974, 1039, 833, 980, 1095, 1125, 774, 1120, 822, 1051, 913, 895, 861, 1352, 881, 990, 1123, 882, 1151, 855, 921, 1304, 1181, 1376, 1130, 923, 929, 1239, 1067, 852, 939, 1021, 993, 1062, 1270, 1097, 1048, 1376, 766, 993, 1098, 734, 1078, 948, 1117, 1120, 790, 1222, 1107, 892, 815, 913, 1046, 1036, 986, 866, 1030, 1038, 1149, 1078, 827, 1015, 1230, 1112, 834, 842, 1066, 967, 846, 1064, 950, 1144, 835, 980, 1027, 953, 984, 911, 1213, 928, 1156, 1095, 1025, 1092, 796, 1129, 1047, 847, 858, 859, 1055, 1080, 1151, 1012, 898, 799, 1054, 1189, 996, 979, 1225, 1236, 896, 909, 1092, 1016, 892, 870, 1040, 1099, 831, 998, 1138, 1012, 797, 993, 1118, 866, 1082, 1283, 1001, 998, 1104, 851, 1281, 1108, 1154, 1063, 1202, 1116, 1319, 967, 972, 1087, 1040, 1061, 1153, 813, 1191, 1322, 1070, 977, 1144, 963, 745, 1073, 1097, 864, 926, 1038, 1021, 1133, 995, 949, 1095, 919, 1071, 815, 813, 940, 1066, 946, 1191, 1135, 1032, 1101, 1063, 962, 950, 1025, 926, 938, 701, 1136, 1026, 1039, 1178, 1062, 1062, 914, 1166, 1026, 823, 1133, 927, 837, 920, 959, 1147, 1203, 895, 953, 1156, 994, 1031, 1228, 1237, 882, 988, 1121, 1207, 779, 931, 871, 1040, 928, 821, 1152, 1249, 919, 1019, 967, 1115, 1148, 1019, 687, 934, 836, 1110, 1220, 1024, 851, 1257, 929, 779, 1050, 1055, 1022, 1118, 1010, 964, 958, 1032, 965, 1128, 1226, 1128, 741, 1109, 1213, 814, 1089, 1380, 1221, 829, 959, 1026, 742, 1342, 1017, 952, 844, 959, 797, 1065, 1048, 971, 870, 1223, 1019, 901, 1375, 1023, 1078, 981, 977, 994, 931, 1111, 1173, 1084, 825, 920, 881, 834, 1129, 1195, 1150, 1026, 1161, 1087, 1203, 1143, 1114, 905, 897, 1041, 1043, 1072, 807, 700, 1143, 992, 1245, 681, 1149, 1154, 1146, 889, 1247, 1013, 1006, 1112, 1129, 1100, 717, 1307, 1049, 970, 1020, 1138, 1109, 1431, 1339, 1033, 832, 712, 1355, 1095, 1397, 988, 1117, 1153, 1036, 1104, 1309, 1191, 789, 1173, 943, 956, 1257, 1199, 1186, 1234, 925, 908, 930, 1135, 1002, 1132, 1007, 1067, 1145, 1037, 828, 1022, 958, 1047, 1161, 1054, 1267, 1068, 939, 991, 941, 1240, 751, 1055, 1128, 1244, 1113, 1234, 908, 1125, 1117, 770, 888, 1132, 1119, 1032, 983, 998, 1143, 1092, 944, 1156, 1005, 946, 946, 837, 1023, 984, 1121, 978, 957, 848, 1064, 1026, 937, 1178, 847, 1079, 1115, 973, 1171, 1064, 1284, 913, 1136, 1154, 1069, 1145, 970, 1109, 898, 1033, 905, 1066, 775, 1026, 1045, 1117, 1286, 1109, 981, 828, 1040, 1114, 1056, 968, 1136, 984, 939, 1228, 871, 1090, 1137, 990, 955, 1306, 1001, 1066, 1172, 1339, 1072, 978, 1099, 1049, 975, 1008, 1132, 1313, 997, 1115, 860, 981, 1098, 1222, 958, 947, 912, 1309, 1046, 962, 1211, 1068, 1052, 1251, 1339, 979, 1099, 1246, 981, 1162, 744, 900, 960, 1058, 1380, 1160, 1069, 1261, 974, 799, 864, 912, 1081, 712, 983, 1225, 969, 871, 976, 864, 1168, 1133, 1190, 888, 1141, 1183, 1180, 885, 840, 986, 1214, 1261, 1138, 997, 1152, 1133, 1162, 1199, 965, 1099, 979, 1350, 1099, 1068, 902, 918, 894, 1003, 1129, 949, 898, 895, 1035, 1021, 994, 1166, 1059, 1386, 1119, 1113, 1166, 1154, 1353, 1109, 956, 1025, 959, 1021, 859, 1394, 978, 995, 973, 864, 1035, 1008, 1227, 1112, 976, 1078, 845, 1090, 1135, 1130, 1038, 1190, 1278, 1553, 1105, 801, 1288, 1334, 1176, 917, 937, 1163, 938, 850, 1180, 1363, 853, 1040, 1004, 1051, 801, 1121, 992, 1225, 1079, 1117, 680, 902, 928, 1128, 910, 1258, 998, 1069, 1022, 1105, 873, 1021, 866, 1214, 798, 1042, 901, 1074, 958, 945, 1146, 1038, 948, 971, 1144, 922, 1034, 903, 890, 1105, 1182, 1154, 1151, 1080, 904, 1012, 1291, 1009, 1124, 1216, 958, 1177, 1091, 852, 879, 826, 832, 867, 1132, 1198, 1079, 894, 917, 1101, 1049, 1164, 1034, 1146, 1016, 1102, 1030, 977, 1273, 894, 884, 1173, 926, 1118, 1181, 898, 884, 1092, 1312, 881, 1066, 1121, 1114, 1187, 1092, 1037, 1013, 967, 1007, 929, 913, 931, 1117, 1234, 1167, 1264, 882, 1274, 987, 679, 899, 1057, 992, 883, 1014, 765, 1157, 1094, 1137, 841, 1135, 1107, 911, 816, 797, 1163, 1029, 983, 1118, 1023, 993, 993, 832, 1136, 1406, 966, 925, 992, 941, 1098, 1011, 978, 950, 1151, 880, 866, 1088, 1106, 880, 1459, 1164, 953, 1040, 916, 1381, 1060, 1043, 894, 1290, 963, 1008, 1127, 1106, 741, 1060, 1149, 1067, 818, 1133, 806, 1002, 1077, 1062, 1192, 890, 1332]\n"
          ]
        }
      ]
    },
    {
      "cell_type": "code",
      "source": [
        "def PLA_variant(X, Y, base):\n",
        "    sign = lambda a: (a>0) - (a<0)\n",
        "    update_list = [0]*1000\n",
        "    for i in range(1000):\n",
        "        # set random seed\n",
        "        random.seed(i+base)\n",
        "        W = [0]*len(X[0])\n",
        "        cnt = 0\n",
        "        update = 0\n",
        "\n",
        "        while(cnt < 5*256):\n",
        "            # random pick one number from 0-255\n",
        "            r_num = random.randint(0, 255)\n",
        "\n",
        "            x = X[r_num]\n",
        "            y = Y[r_num]\n",
        "            # check if sign(wx) == y\n",
        "            val = float(np.dot(W, x))\n",
        "            if sign(val) == y:\n",
        "                cnt+=1\n",
        "                continue\n",
        "            else:\n",
        "                cnt = 0\n",
        "                u = np.multiply(x, y)\n",
        "                # update weight until xn is classified correctly\n",
        "                while sign(val)!=y:\n",
        "                    update += 1\n",
        "                    W = np.add(W, u)\n",
        "                    # update val with new weight\n",
        "                    val = float(np.dot(W, x))\n",
        "\n",
        "        update_list[i] = update\n",
        "        if (i+1)%100 == 0:\n",
        "            print('update', i+1, 'times')\n",
        "\n",
        "    return update_list"
      ],
      "metadata": {
        "id": "RHxBJPX7BnIC"
      },
      "execution_count": null,
      "outputs": []
    },
    {
      "cell_type": "code",
      "source": [
        "X_12 = copy.deepcopy(X)\n",
        "update_list_12 = PLA_variant(X_12, Y, 1)"
      ],
      "metadata": {
        "colab": {
          "base_uri": "https://localhost:8080/"
        },
        "id": "biA_K-hHC6Gs",
        "outputId": "7d73bc09-0cb2-4583-a854-9d49deee0e44"
      },
      "execution_count": null,
      "outputs": [
        {
          "output_type": "stream",
          "name": "stdout",
          "text": [
            "update 100 times\n",
            "update 200 times\n",
            "update 300 times\n",
            "update 400 times\n",
            "update 500 times\n",
            "update 600 times\n",
            "update 700 times\n",
            "update 800 times\n",
            "update 900 times\n",
            "update 1000 times\n"
          ]
        }
      ]
    },
    {
      "cell_type": "code",
      "source": [
        "draw_hist(update_list_12, \"problem 12\")"
      ],
      "metadata": {
        "colab": {
          "base_uri": "https://localhost:8080/",
          "height": 490
        },
        "id": "8Daoc0SiDHiR",
        "outputId": "55f38d9b-086b-4267-b6d4-25dadf8ecb55"
      },
      "execution_count": null,
      "outputs": [
        {
          "output_type": "display_data",
          "data": {
            "text/plain": [
              "<Figure size 640x480 with 1 Axes>"
            ],
            "image/png": "[encoded data removed]"
          },
          "metadata": {}
        },
        {
          "output_type": "stream",
          "name": "stdout",
          "text": [
            "median number of updates: 1078.0\n"
          ]
        }
      ]
    },
    {
      "cell_type": "code",
      "source": [
        "print(update_list_12)"
      ],
      "metadata": {
        "colab": {
          "base_uri": "https://localhost:8080/"
        },
        "id": "m9SxHadAEgPG",
        "outputId": "878a10cb-65d5-4955-b76e-d4be8af8f9de"
      },
      "execution_count": null,
      "outputs": [
        {
          "output_type": "stream",
          "name": "stdout",
          "text": [
            "[912, 947, 1008, 989, 1180, 1105, 1255, 960, 1070, 1134, 1221, 1029, 1038, 951, 1175, 1283, 937, 1305, 1395, 1121, 1002, 1264, 894, 971, 1330, 1072, 1087, 1295, 1077, 924, 1088, 1010, 1071, 1252, 1134, 1211, 1294, 1093, 953, 906, 1150, 1301, 1157, 1259, 1039, 1087, 1214, 951, 1141, 1203, 1211, 1086, 963, 1203, 1135, 989, 1008, 1082, 859, 1054, 1133, 951, 951, 1328, 812, 1160, 962, 1013, 857, 1142, 1175, 1017, 1075, 833, 1124, 1011, 1092, 1234, 905, 1273, 834, 674, 1117, 1155, 885, 918, 1176, 968, 1027, 996, 1161, 972, 872, 1230, 1169, 987, 1140, 1208, 1165, 1121, 951, 1104, 914, 1003, 1184, 1299, 1094, 1117, 1310, 1157, 1119, 898, 1057, 1040, 1232, 1165, 938, 1259, 981, 1165, 1117, 774, 902, 1070, 1266, 1124, 1049, 1145, 1250, 1099, 1041, 911, 918, 943, 1010, 1082, 1001, 1328, 915, 1249, 1144, 1015, 950, 1096, 1216, 1037, 986, 919, 952, 918, 971, 1165, 1094, 1080, 1100, 1326, 991, 1171, 1054, 1201, 1015, 947, 1070, 1133, 1183, 1285, 1126, 822, 1397, 1222, 1047, 1047, 1240, 790, 1105, 1005, 1238, 1291, 1205, 1049, 965, 1014, 1229, 970, 983, 1240, 775, 931, 1061, 1113, 967, 975, 1146, 973, 1292, 1297, 1027, 1003, 869, 837, 988, 958, 1096, 1471, 1082, 988, 1143, 979, 1436, 1183, 1317, 1041, 948, 949, 1265, 900, 1075, 1276, 1141, 1142, 1078, 1178, 1184, 1078, 968, 1226, 1201, 969, 1068, 1071, 1106, 1019, 697, 1018, 1078, 823, 1005, 835, 980, 813, 1112, 1126, 1236, 1211, 1562, 1028, 1273, 900, 1341, 1054, 1134, 1258, 944, 941, 903, 1012, 1142, 760, 816, 1327, 1190, 1042, 904, 1230, 1165, 1047, 1107, 1050, 849, 1363, 1044, 864, 1113, 913, 1121, 965, 1140, 928, 1341, 885, 1254, 1290, 854, 925, 1238, 988, 1023, 993, 1263, 1268, 1160, 1224, 897, 1151, 1257, 1138, 851, 1002, 829, 950, 1297, 1242, 1196, 1098, 1216, 913, 1160, 904, 1205, 1028, 778, 1075, 1175, 789, 1179, 1145, 906, 1022, 941, 966, 938, 968, 1008, 1066, 1144, 1122, 1151, 865, 1344, 1318, 1123, 885, 818, 1002, 1085, 1154, 1126, 1049, 1117, 901, 967, 1114, 808, 1116, 1238, 886, 969, 812, 1238, 1181, 1111, 1067, 1123, 775, 871, 1521, 841, 1038, 1108, 1207, 1090, 812, 812, 990, 1068, 912, 1137, 1448, 1202, 1046, 1309, 854, 713, 930, 1202, 1035, 897, 844, 1155, 996, 1051, 817, 1027, 1137, 903, 1296, 1398, 1104, 1040, 869, 933, 1323, 1028, 1121, 1207, 1226, 1195, 1362, 1004, 949, 1227, 1023, 1120, 890, 853, 1140, 1039, 1133, 994, 961, 1138, 1180, 1242, 1145, 1062, 918, 959, 940, 1177, 1050, 1124, 1093, 1259, 1167, 1137, 1005, 1124, 1134, 947, 909, 1150, 1177, 1060, 840, 1060, 1095, 1000, 950, 962, 869, 1140, 1431, 1130, 1067, 1180, 1126, 1501, 1144, 997, 785, 1093, 871, 775, 928, 1035, 1103, 1168, 819, 1058, 1156, 1149, 881, 1155, 868, 997, 990, 1181, 1301, 953, 977, 1126, 1084, 959, 847, 892, 1255, 931, 1007, 1036, 1167, 1382, 1170, 743, 929, 798, 1158, 1222, 1069, 929, 930, 1275, 1239, 1089, 953, 1126, 1153, 760, 1163, 982, 952, 933, 1234, 881, 921, 754, 1349, 1248, 1123, 1136, 1056, 1152, 883, 989, 935, 781, 1382, 1307, 972, 1182, 996, 1056, 1085, 1117, 1267, 1046, 1277, 998, 993, 1062, 1080, 677, 892, 986, 1141, 1091, 1111, 1257, 1032, 948, 1107, 930, 892, 1161, 1071, 1113, 1119, 1219, 1012, 1287, 931, 1153, 1015, 1142, 1028, 957, 1157, 1092, 797, 792, 1249, 1171, 903, 1190, 1288, 1138, 1050, 1066, 1057, 1345, 1149, 984, 1058, 1096, 1052, 1159, 1115, 986, 1204, 1112, 969, 1013, 1139, 1176, 1006, 1116, 996, 1481, 944, 1231, 1321, 1078, 1161, 971, 1029, 826, 1171, 1035, 937, 1397, 1284, 1113, 904, 1150, 979, 813, 1149, 1473, 1102, 1119, 1182, 1052, 955, 1137, 1141, 1268, 1258, 1274, 1035, 1222, 1077, 946, 851, 1104, 1387, 799, 1152, 1310, 1231, 813, 1282, 952, 1147, 1032, 1246, 1162, 1134, 693, 1110, 1211, 855, 1139, 1232, 1189, 1187, 1091, 872, 922, 1207, 1148, 964, 1097, 904, 1004, 880, 988, 1187, 1027, 1022, 860, 1362, 1131, 893, 1002, 1207, 1101, 967, 1245, 1151, 1281, 1260, 1062, 1213, 925, 757, 1044, 1080, 841, 1152, 1089, 1047, 1049, 1049, 1022, 852, 1094, 1308, 802, 1032, 977, 1039, 800, 1024, 1028, 1241, 1129, 1070, 1117, 1341, 1133, 1115, 1084, 1214, 1066, 965, 1104, 1071, 1027, 1011, 1002, 1001, 1228, 1122, 922, 1054, 1239, 1197, 1221, 1210, 1153, 1453, 981, 946, 842, 999, 1058, 1215, 1452, 1038, 1430, 1188, 975, 1149, 1090, 1123, 769, 1025, 1237, 1359, 966, 1247, 1030, 776, 964, 1022, 950, 983, 1293, 1014, 857, 974, 1132, 930, 938, 1026, 1339, 1146, 1133, 1079, 1185, 880, 870, 1152, 695, 1351, 1310, 961, 1168, 1050, 1198, 1163, 1005, 1151, 1017, 1338, 1158, 994, 998, 1104, 783, 1412, 1080, 1120, 926, 1271, 1054, 1123, 1184, 1090, 1187, 994, 1172, 1289, 1154, 1136, 928, 1200, 1299, 1112, 1040, 1227, 760, 1501, 955, 1056, 856, 1039, 938, 1226, 1167, 1100, 1213, 1168, 1134, 737, 1174, 1108, 919, 1155, 1220, 834, 1187, 765, 1156, 1085, 894, 924, 1069, 1088, 945, 1091, 1088, 1025, 1080, 1194, 959, 954, 1073, 1038, 1036, 1299, 978, 1072, 738, 893, 1241, 1062, 969, 1207, 1082, 1086, 1009, 869, 880, 1139, 949, 1141, 733, 1163, 900, 1152, 1217, 1151, 1097, 1053, 1107, 981, 1411, 1066, 1127, 1171, 1178, 1076, 1199, 1204, 1065, 960, 1004, 1049, 1189, 1066, 1195, 1259, 1175, 981, 1014, 711, 1075, 846, 933, 898, 1085, 1174, 882, 922, 904, 1140, 927, 1071, 1064, 918, 1219, 1125, 1073, 941, 1169, 1003, 1095, 1254, 947, 1339, 1241, 1062, 915, 1086, 927, 883, 1294, 859, 1047, 1118, 1124, 1112, 884, 966, 999, 1226, 943, 982, 854, 1368, 1197, 1203, 873, 1337, 847, 951, 1344, 1305, 1006, 1133, 973, 885, 1155, 1119, 1308, 1306, 1117, 1186, 1024, 1014, 1031, 1050, 968, 1208, 1197, 1168, 1197, 1011, 885, 1183, 1133, 1123, 1013, 999, 1132, 1086, 1022, 1240, 914, 1213, 974, 921, 902, 1045, 1046, 1224, 1210, 1062, 1127, 673, 1422, 1106, 1083, 890, 1074, 1204, 998, 1265, 1213, 1056, 1124, 1235, 1147, 872, 1194, 845, 1124, 1083, 1382, 1074]\n"
          ]
        }
      ]
    }
  ]
}